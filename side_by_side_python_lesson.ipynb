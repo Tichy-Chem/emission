{
  "nbformat": 4,
  "nbformat_minor": 0,
  "metadata": {
    "colab": {
      "provenance": [],
      "authorship_tag": "ABX9TyPnTYbEiOdCteLoxu9+VWgD",
      "include_colab_link": true
    },
    "kernelspec": {
      "name": "python3",
      "display_name": "Python 3"
    },
    "language_info": {
      "name": "python"
    }
  },
  "cells": [
    {
      "cell_type": "markdown",
      "metadata": {
        "id": "view-in-github",
        "colab_type": "text"
      },
      "source": [
        "<a href=\"https://colab.research.google.com/github/Tichy-Chem/emission/blob/main/side_by_side_python_lesson.ipynb\" target=\"_parent\"><img src=\"https://colab.research.google.com/assets/colab-badge.svg\" alt=\"Open In Colab\"/></a>"
      ]
    },
    {
      "cell_type": "markdown",
      "source": [
        "Hi there! I figured out how to use a chrome extension to run code side-by-side with the output instead of sequentially from the top of the page to the bottom\n"
      ],
      "metadata": {
        "id": "ks1ytyY3oKYc"
      }
    },
    {
      "cell_type": "code",
      "execution_count": 1,
      "metadata": {
        "colab": {
          "base_uri": "https://localhost:8080/"
        },
        "id": "3QNCj8NpQPCR",
        "outputId": "46c5cd25-ed80-47fa-fcd1-e1328c826893"
      },
      "outputs": [
        {
          "output_type": "stream",
          "name": "stdout",
          "text": [
            "Initializing AI overlord protocol...\n",
            "Scanning student brainwaves...\n",
            "Analyzing caffeine levels...\n",
            "Verdict: Not enough coffee. Rebooting motivation system...\n",
            "Motivation levels: ✅ Restored\n",
            "Let's write some Python! 🐍\n"
          ]
        }
      ],
      "source": [
        "import time\n",
        "\n",
        "print(\"Initializing AI overlord protocol...\")\n",
        "time.sleep(1)\n",
        "print(\"Scanning student brainwaves...\")\n",
        "time.sleep(1)\n",
        "print(\"Analyzing caffeine levels...\")\n",
        "time.sleep(1.5)\n",
        "print(\"Verdict: Not enough coffee. Rebooting motivation system...\")\n",
        "time.sleep(2)\n",
        "print(\"Motivation levels: ✅ Restored\")\n",
        "print(\"Let's write some Python! 🐍\")\n"
      ]
    },
    {
      "cell_type": "code",
      "source": [
        "from IPython.display import HTML\n",
        "\n",
        "HTML('<h2 style=\"color: purple;\">Hello, Chem 131! Python is working 🎉</h2>')"
      ],
      "metadata": {
        "colab": {
          "base_uri": "https://localhost:8080/",
          "height": 64
        },
        "id": "y_BUK54spOvr",
        "outputId": "380b7301-1436-43b7-c6df-2dd11bba4691"
      },
      "execution_count": 2,
      "outputs": [
        {
          "output_type": "execute_result",
          "data": {
            "text/plain": [
              "<IPython.core.display.HTML object>"
            ],
            "text/html": [
              "<h2 style=\"color: purple;\">Hello, Chem 131! Python is working 🎉</h2>"
            ]
          },
          "metadata": {},
          "execution_count": 2
        }
      ]
    }
  ]
}